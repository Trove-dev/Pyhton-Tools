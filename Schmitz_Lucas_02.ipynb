{
 "metadata": {
  "language_info": {
   "codemirror_mode": {
    "name": "ipython",
    "version": 3
   },
   "file_extension": ".py",
   "mimetype": "text/x-python",
   "name": "python",
   "nbconvert_exporter": "python",
   "pygments_lexer": "ipython3",
   "version": "3.9.0-final"
  },
  "orig_nbformat": 2,
  "kernelspec": {
   "name": "Python 3.9.0 64-bit",
   "display_name": "Python 3.9.0 64-bit",
   "metadata": {
    "interpreter": {
     "hash": "ac2eaa0ea0ebeafcc7822e65e46aa9d4f966f30b695406963e145ea4a91cd4fc"
    }
   }
  }
 },
 "nbformat": 4,
 "nbformat_minor": 2,
 "cells": [
  {
   "cell_type": "code",
   "execution_count": 2,
   "metadata": {},
   "outputs": [
    {
     "output_type": "stream",
     "name": "stdout",
     "text": [
      "Die Summe beträgt:  0 1\n"
     ]
    }
   ],
   "source": [
    "# Halbaddierer\n",
    "\n",
    "a = int(input(\"Der erste Summand: \"))\n",
    "b = int(input(\"Der zweite Summand: \"))\n",
    "\n",
    "Uebertrag = a & b                                 # & bedeutet, dass der carry 1 wird, wenn a UND b den Wert 1 haben.\n",
    "Summe = a ^ b                                     # ^ bedeutet, dass die letzte Zahl der Summe 1 ist, wenn nur EINER der Werte 1 ist. \n",
    "\n",
    "print ('Die Summe beträgt: {}{}'.format(Uebertrag, Summe))"
   ]
  }
 ]
}