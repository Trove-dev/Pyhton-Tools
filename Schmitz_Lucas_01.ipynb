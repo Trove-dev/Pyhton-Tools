{
 "cells": [
  {
   "cell_type": "code",
   "execution_count": 1,
   "metadata": {},
   "outputs": [
    {
     "name": "stdout",
     "output_type": "stream",
     "text": [
      "The area of the circle with radius 1.1 is: 3.8013271108436504\n"
     ]
    }
   ],
   "source": [
    "# area of circle\n",
    "\n",
    "# import pi\n",
    "from math import pi\n",
    "\n",
    "\n",
    "radius = 1.1                        # set the radius\n",
    "area = pi * (radius ** 2)           # calculate\n",
    "\n",
    "print(\"The area of the circle with radius\", radius, \"is:\", area)"
   ]
  },
  {
   "cell_type": "code",
   "execution_count": 2,
   "metadata": {},
   "outputs": [
    {
     "name": "stdout",
     "output_type": "stream",
     "text": [
      "List: ['3', '5', '7', '23']\n",
      "Tuple: ('3', '5', '7', '23')\n"
     ]
    }
   ],
   "source": [
    "# Generate list and tuple\n",
    "\n",
    "varlist = [\"3\", \"5\", \"7\", \"23\"]         # list is created with  []\n",
    "vartuple = (\"3\", \"5\", \"7\", \"23\")        # tuple is created with ()\n",
    "\n",
    "print(\"List:\", varlist)\n",
    "print(\"Tuple:\", vartuple)"
   ]
  },
  {
   "cell_type": "code",
   "execution_count": 3,
   "metadata": {},
   "outputs": [
    {
     "name": "stdout",
     "output_type": "stream",
     "text": [
      "[1505, 1540, 1575, 1610, 1645, 1680, 1715, 1750, 1785, 1820, 1855, 1890, 1925, 1960, 1995, 2030, 2065, 2100, 2135, 2170, 2205, 2240, 2275, 2310, 2345, 2380, 2415, 2450, 2485, 2520, 2555, 2590, 2625, 2660, 2695]\n"
     ]
    }
   ],
   "source": [
    "# Find the numbers\n",
    "\n",
    "list = []\n",
    "\n",
    "for value in range(1500,2700):                  # 1500 - 2700\n",
    "    if (value % 7 == 0) and (value % 5 == 0):   # divisible by 7 and multiple of 5\n",
    "        list.extend([value])                    # list is being created\n",
    "\n",
    "print(list)"
   ]
  },
  {
   "cell_type": "code",
   "execution_count": 4,
   "metadata": {},
   "outputs": [
    {
     "name": "stdout",
     "output_type": "stream",
     "text": [
      "60°C is 140 in Fahrenheit\n",
      "45°F is 7 in Celsius\n"
     ]
    }
   ],
   "source": [
    "# convert temperatures\n",
    "# input\n",
    "celsius = \"60°C\"\n",
    "fahrenheit = \"45°F\"\n",
    "\n",
    "C = 60\n",
    "F = 45\n",
    "\n",
    "# do the math\n",
    "calF = (C * 1.8) + 32\n",
    "calC = ((F -32)) * (5 / 9)\n",
    "\n",
    "# round the numbers:\n",
    "rounded_calF = round(calF)\n",
    "rounded_calC = round(calC)\n",
    "\n",
    "# For testing:\n",
    "    # print(rounded_calF)\n",
    "    # print(rounded_calC)\n",
    "\n",
    "# output\n",
    "print(celsius, \"is\", rounded_calF, \"in Fahrenheit\")\n",
    "print(fahrenheit, \"is\", rounded_calC, \"in Celsius\")"
   ]
  }
 ],
 "metadata": {
  "kernelspec": {
   "display_name": "Python 3",
   "language": "python",
   "name": "python3"
  },
  "language_info": {
   "codemirror_mode": {
    "name": "ipython",
    "version": 3
   },
   "file_extension": ".py",
   "mimetype": "text/x-python",
   "name": "python",
   "nbconvert_exporter": "python",
   "pygments_lexer": "ipython3",
   "version": "3.9.0"
  }
 },
 "nbformat": 4,
 "nbformat_minor": 2
}